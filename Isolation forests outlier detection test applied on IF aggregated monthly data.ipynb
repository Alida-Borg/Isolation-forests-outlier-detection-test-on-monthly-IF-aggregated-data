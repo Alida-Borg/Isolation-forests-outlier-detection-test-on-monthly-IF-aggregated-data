{
 "cells": [
  {
   "cell_type": "code",
   "execution_count": 1,
   "id": "5a067a12",
   "metadata": {},
   "outputs": [
    {
     "name": "stdout",
     "output_type": "stream",
     "text": [
      "Defaulting to user installation because normal site-packages is not writeable\n",
      "Requirement already satisfied: pandas in c:\\programdata\\anaconda3\\lib\\site-packages (1.4.4)\n",
      "Requirement already satisfied: openpyxl in c:\\programdata\\anaconda3\\lib\\site-packages (3.0.10)\n",
      "Requirement already satisfied: scikit-learn in c:\\programdata\\anaconda3\\lib\\site-packages (1.0.2)\n",
      "Requirement already satisfied: python-dateutil>=2.8.1 in c:\\programdata\\anaconda3\\lib\\site-packages (from pandas) (2.8.2)\n",
      "Requirement already satisfied: pytz>=2020.1 in c:\\programdata\\anaconda3\\lib\\site-packages (from pandas) (2022.1)\n",
      "Requirement already satisfied: numpy>=1.18.5 in c:\\programdata\\anaconda3\\lib\\site-packages (from pandas) (1.21.5)\n",
      "Requirement already satisfied: et_xmlfile in c:\\programdata\\anaconda3\\lib\\site-packages (from openpyxl) (1.1.0)\n",
      "Requirement already satisfied: scipy>=1.1.0 in c:\\programdata\\anaconda3\\lib\\site-packages (from scikit-learn) (1.9.1)\n",
      "Requirement already satisfied: threadpoolctl>=2.0.0 in c:\\programdata\\anaconda3\\lib\\site-packages (from scikit-learn) (2.2.0)\n",
      "Requirement already satisfied: joblib>=0.11 in c:\\programdata\\anaconda3\\lib\\site-packages (from scikit-learn) (1.1.0)\n",
      "Requirement already satisfied: six>=1.5 in c:\\programdata\\anaconda3\\lib\\site-packages (from python-dateutil>=2.8.1->pandas) (1.16.0)\n",
      "Data successfully written to L:\\Ecoreturn\\IFs\\Power BI\\IF Balance Sheet Monthly Analysis\\SIFE_GESMES_M_SERIES_k_ALIDA2.xlsx\n"
     ]
    }
   ],
   "source": [
    "!pip install pandas openpyxl scikit-learn\n",
    "\n",
    "import pandas as pd\n",
    "from sklearn.ensemble import IsolationForest\n",
    "\n",
    "# Step 1: Read the Excel file\n",
    "file_path = r\"C:\\SIFE_GESMES_M_SERIES.xlsx\"\n",
    "df = pd.read_excel(file_path)\n",
    "\n",
    "# Step 2: Convert DATA_TYPE column to string\n",
    "df['DATA_TYPE'] = df['DATA_TYPE'].astype(str)\n",
    "\n",
    "# Step 3: Create key column\n",
    "df['key'] = df[['COUNT_AREA', 'IVF_REP_SECTOR', 'IVF_ITEM', 'MATURITY_ORIG', 'DATA_TYPE', 'BS_COUNT_SECTOR', 'CURRENCY_TRANS']].astype(str).agg('.'.join, axis=1)\n",
    "\n",
    "# Step 4: Add iteration column\n",
    "df['iteration'] = df.groupby('key').ngroup() + 1  # Number groups starting from 1\n",
    "\n",
    "# Step 5: Define a function to apply Isolation Forest to each group\n",
    "def apply_isolation_forest(group):\n",
    "    iso = IsolationForest()\n",
    "    if len(group) > 1:  # Ensure there are enough points to fit the model\n",
    "        group['score'] = iso.fit_predict(group[['OBS_VALUE']])\n",
    "        group['score'] = iso.score_samples(group[['OBS_VALUE']])  # Get the actual score\n",
    "        group['outlier_indication'] = group['score'].apply(lambda x: 'outlier' if x < -0.7 else 'inlier')\n",
    "    else:\n",
    "        group['score'] = None\n",
    "        group['outlier_indication'] = 'incomplete'\n",
    "    return group\n",
    "\n",
    "# Step 6: Apply the function to each group\n",
    "df = df.groupby('key').apply(apply_isolation_forest).reset_index(drop=True)\n",
    "\n",
    "# Step 7: Select and reorder columns for the final output\n",
    "df_final = df[['COUNT_AREA', 'COUNT_AREA_DESC', 'IVF_REP_SECTOR', 'IVF_REP_SECTOR_DESC', \n",
    "               'IVF_ITEM', 'IVF_ITEM_DESC', 'MATURITY_ORIG', 'MATURITY_ORIG_DESC', \n",
    "               'DATA_TYPE', 'DATA_TYPE_DESC', 'BS_COUNT_SECTOR', 'BS_COUNT_SECTOR_DESC', \n",
    "               'CURRENCY_TRANS', 'CURRENCY_TRANS_DESC', 'TIME_PERIOD', 'OBS_VALUE', \n",
    "               'OBS_CONF', 'OBS_STATUS', 'key', 'iteration', 'score', 'outlier_indication']]\n",
    "\n",
    "# Step 8: Write the final DataFrame to an Excel file\n",
    "output_file_path = r\"C:\\SIFE_GESMES_M_SERIES_output.xlsx\"\n",
    "df_final.to_excel(output_file_path, index=False)\n",
    "\n",
    "print(f\"Data successfully written to {output_file_path}\")\n"
   ]
  },
  {
   "cell_type": "code",
   "execution_count": null,
   "id": "804427ab",
   "metadata": {},
   "outputs": [],
   "source": []
  }
 ],
 "metadata": {
  "kernelspec": {
   "display_name": "Python 3 (ipykernel)",
   "language": "python",
   "name": "python3"
  },
  "language_info": {
   "codemirror_mode": {
    "name": "ipython",
    "version": 3
   },
   "file_extension": ".py",
   "mimetype": "text/x-python",
   "name": "python",
   "nbconvert_exporter": "python",
   "pygments_lexer": "ipython3",
   "version": "3.9.13"
  }
 },
 "nbformat": 4,
 "nbformat_minor": 5
}
